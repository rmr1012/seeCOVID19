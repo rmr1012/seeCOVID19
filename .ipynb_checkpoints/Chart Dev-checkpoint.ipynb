{
 "cells": [
  {
   "cell_type": "code",
   "execution_count": 1,
   "metadata": {},
   "outputs": [],
   "source": [
    "import json"
   ]
  },
  {
   "cell_type": "code",
   "execution_count": 2,
   "metadata": {},
   "outputs": [],
   "source": [
    "data=json.loads(open('static/js/seeCOVID19/clean.json',\"r\").read())"
   ]
  },
  {
   "cell_type": "code",
   "execution_count": 3,
   "metadata": {},
   "outputs": [],
   "source": [
    "# timeseries=data['locations'][485][\"timelines\"][\"confirmed\"][\"timeline\"]\n",
    "timeseries=data['locations'][440][\"timelines\"][\"confirmed\"][\"timeline\"]\n"
   ]
  },
  {
   "cell_type": "code",
   "execution_count": 4,
   "metadata": {},
   "outputs": [],
   "source": [
    "import numpy as np\n",
    "import scipy.optimize as opt\n",
    "import matplotlib.pyplot as plt\n",
    "%matplotlib inline"
   ]
  },
  {
   "cell_type": "code",
   "execution_count": 5,
   "metadata": {},
   "outputs": [],
   "source": [
    "y=list(timeseries.values())\n",
    "tslen=len(y)\n",
    "x=range(tslen)"
   ]
  },
  {
   "cell_type": "code",
   "execution_count": 6,
   "metadata": {},
   "outputs": [],
   "source": [
    "def f(x, a, c, d):\n",
    "    return a / (1. + np.exp(-c * (x - d)))"
   ]
  },
  {
   "cell_type": "code",
   "execution_count": 7,
   "metadata": {},
   "outputs": [],
   "source": [
    "# (a_, c_, d_), _ = opt.curve_fit(f, x, y)\n"
   ]
  },
  {
   "cell_type": "code",
   "execution_count": 8,
   "metadata": {},
   "outputs": [],
   "source": [
    "def fideal(x, A, k, x0):\n",
    "    outlist=[]\n",
    "    for xi in x:\n",
    "        \n",
    "        outlist.append(A*(1-(1/(1+np.exp((xi-x0)/k)))))\n",
    "    return outlist"
   ]
  },
  {
   "cell_type": "code",
   "execution_count": 9,
   "metadata": {},
   "outputs": [
    {
     "data": {
      "text/plain": [
       "[0.5652450825465398,\n",
       " 0.6947817485316116,\n",
       " 0.8540039434876076,\n",
       " 1.0497144767355338,\n",
       " 1.2902750375823866,\n",
       " 1.5859633814810232,\n",
       " 1.9494123400810688,\n",
       " 2.3961493906682287,\n",
       " 2.945259804898371,\n",
       " 3.6202016598584814,\n",
       " 4.44980745673923,\n",
       " 5.469515025574873,\n",
       " 6.722880131363208,\n",
       " 8.263435142088628,\n",
       " 10.156972768384664,\n",
       " 12.48435183886764,\n",
       " 15.344944067605187,\n",
       " 18.860867684363434,\n",
       " 23.18218670525366,\n",
       " 28.49329480132295,\n",
       " 35.02075171056908,\n",
       " 43.04289974485377,\n",
       " 52.90166029685238,\n",
       " 65.01699780831868,\n",
       " 79.90464420938525,\n",
       " 98.19780345469603,\n",
       " 120.67370672482703,\n",
       " 148.2860673547184,\n",
       " 182.20469339280962,\n",
       " 223.86375660304887,\n",
       " 275.02048925806844,\n",
       " 337.8263799577876,\n",
       " 414.91325623623794,\n",
       " 509.49695385496625,\n",
       " 625.5015433324472,\n",
       " 767.7072520540778,\n",
       " 941.9251880980532,\n",
       " 1155.2015912958984,\n",
       " 1416.0533885092016,\n",
       " 1734.7349994233186,\n",
       " 2123.5331929205677,\n",
       " 2597.081761548381,\n",
       " 3172.6801577090428,\n",
       " 3870.589232107986,\n",
       " 4714.262106579149,\n",
       " 5730.448638182658,\n",
       " 6949.08843399134,\n",
       " 8402.882253627353,\n",
       " 10126.41007588153,\n",
       " 12154.655376799792,\n",
       " 14520.813239502784,\n",
       " 17253.32229359765,\n",
       " 20372.183576888136,\n",
       " 23884.819097699645,\n",
       " 27781.960934755352,\n",
       " 32034.293411829603,\n",
       " 36590.7044585783,\n",
       " 41378.93265066882,\n",
       " 46309.05625016319]"
      ]
     },
     "execution_count": 9,
     "metadata": {},
     "output_type": "execute_result"
    }
   ],
   "source": [
    "fideal(x,96457.0224,4.84637719,58.3859675)"
   ]
  },
  {
   "cell_type": "code",
   "execution_count": 11,
   "metadata": {},
   "outputs": [
    {
     "name": "stdout",
     "output_type": "stream",
     "text": [
      "Time Series Day 0 2020-01-22T00:00:00Z\n",
      "Projected Total Cases 9053.670278995387\n",
      "Projected Turning Point 60.975939015467\n",
      "Projected Sigma 4.114680058493083\n"
     ]
    }
   ],
   "source": [
    "from lmfit.models import StepModel, LinearModel\n",
    "import matplotlib.pyplot as plt\n",
    "\n",
    "xdata=np.array(x)\n",
    "ydata=np.array(y)\n",
    "# model data as Step + Line\n",
    "step_mod = StepModel(form='logistic', prefix='step_')\n",
    "\n",
    "model = step_mod\n",
    "\n",
    "# make named parameters, giving initial values:\n",
    "pars = model.make_params(line_intercept=ydata.min(),\n",
    "                         line_slope=0,\n",
    "                         step_center=xdata.mean(),\n",
    "                         step_amplitude=ydata.std(),\n",
    "                         step_sigma=1)\n",
    "\n",
    "# fit data to this model with these parameters\n",
    "out = model.fit(ydata, pars, x=xdata)\n",
    "\n",
    "relativeErrors=[]\n",
    "values=[]\n",
    "for name, param in out.params.items():\n",
    "    values.append(param.value)\n",
    "    relativeErrors.append(100*param.stderr/param.value)\n",
    "amplitudeErr=relativeErrors[0]\n",
    "amplitude=values[0]\n",
    "centerErr=relativeErrors[1]\n",
    "center=values[1]\n",
    "sigmaErr=relativeErrors[2]\n",
    "sigma=values[2]\n",
    "\n",
    "day0=list(timeseries.keys())[0]\n",
    "\n",
    "print(\"Time Series Day 0\",day0)\n",
    "print(\"Projected Total Cases\",amplitude)\n",
    "print(\"Projected Turning Point\",center)\n",
    "print(\"Projected Sigma\",sigma)"
   ]
  },
  {
   "cell_type": "code",
   "execution_count": null,
   "metadata": {},
   "outputs": [],
   "source": [
    "for name, param in out.params.items():\n",
    "    print('{:7s} {:11.5f} {:11.5f}'.format(name, param.value, param.stderr))\n",
    "# print results\n",
    "print(out.fit_report())\n",
    "\n",
    "# plot data and best-fit\n",
    "plt.plot(xdata, ydata, 'b')\n",
    "plt.plot(xdata, out.best_fit, 'r-')\n",
    "plt.show()"
   ]
  },
  {
   "cell_type": "code",
   "execution_count": null,
   "metadata": {},
   "outputs": [],
   "source": [
    "\n"
   ]
  },
  {
   "cell_type": "code",
   "execution_count": null,
   "metadata": {},
   "outputs": [],
   "source": []
  },
  {
   "cell_type": "code",
   "execution_count": null,
   "metadata": {},
   "outputs": [],
   "source": [
    "fig, ax = plt.subplots(1, 1, figsize=(6, 4))\n",
    "ax.plot(x, out.best_fit, 'o')\n",
    "ax.plot(x, fideal(x, amplitude, sigma, center), '-')"
   ]
  },
  {
   "cell_type": "code",
   "execution_count": null,
   "metadata": {},
   "outputs": [],
   "source": []
  },
  {
   "cell_type": "code",
   "execution_count": 14,
   "metadata": {},
   "outputs": [
    {
     "name": "stderr",
     "output_type": "stream",
     "text": [
      "/anaconda3/lib/python3.7/site-packages/ipykernel_launcher.py:1: RuntimeWarning: divide by zero encountered in log10\n",
      "  \"\"\"Entry point for launching an IPython kernel.\n"
     ]
    },
    {
     "data": {
      "image/png": "[encoded data removed]",
      "text/plain": [
       "<Figure size 432x288 with 1 Axes>"
      ]
     },
     "metadata": {
      "needs_background": "light"
     },
     "output_type": "display_data"
    }
   ],
   "source": [
    "plt.plot(np.log10(ydata))\n",
    "plt.plot(np.diff(np.log10(ydata)))\n",
    "\n",
    "plt.show()"
   ]
  },
  {
   "cell_type": "code",
   "execution_count": null,
   "metadata": {},
   "outputs": [],
   "source": []
  },
  {
   "cell_type": "code",
   "execution_count": null,
   "metadata": {},
   "outputs": [],
   "source": []
  }
 ],
 "metadata": {
  "kernelspec": {
   "display_name": "Python 3",
   "language": "python",
   "name": "python3"
  },
  "language_info": {
   "codemirror_mode": {
    "name": "ipython",
    "version": 3
   },
   "file_extension": ".py",
   "mimetype": "text/x-python",
   "name": "python",
   "nbconvert_exporter": "python",
   "pygments_lexer": "ipython3",
   "version": "3.7.1"
  }
 },
 "nbformat": 4,
 "nbformat_minor": 2
}
